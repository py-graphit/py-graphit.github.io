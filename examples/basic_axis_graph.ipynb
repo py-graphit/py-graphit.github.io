{
 "cells": [
  {
   "cell_type": "code",
   "execution_count": null,
   "metadata": {},
   "outputs": [],
   "source": [
    "from graphit import GraphAxis\n",
    "from graphit.graph_axis.graph_axis_mixin import NodeAxisTools\n",
    "from graphit.graph_io.io_jgf_format import read_jgf\n",
    "\n",
    "from orm_classes import Segid, Resid, Atom"
   ]
  },
  {
   "cell_type": "markdown",
   "metadata": {},
   "source": [
    "### Importing a graph"
   ]
  },
  {
   "cell_type": "code",
   "execution_count": null,
   "metadata": {},
   "outputs": [],
   "source": [
    "g = read_jgf('files/axis_graph.jgf')\n",
    "g.node_tools = NodeAxisTools\n",
    "\n",
    "for n in g.iternodes():\n",
    "    print(n)"
   ]
  },
  {
   "cell_type": "markdown",
   "metadata": {},
   "source": [
    "### Working with axis"
   ]
  },
  {
   "cell_type": "code",
   "execution_count": null,
   "metadata": {},
   "outputs": [],
   "source": [
    "# GraphAxis objects have a root\n",
    "print(g.root)\n",
    "\n",
    "root = g.get_root()"
   ]
  },
  {
   "cell_type": "code",
   "execution_count": null,
   "metadata": {},
   "outputs": [],
   "source": [
    "# Traverse along axis with respect to root\n",
    "segid = g.getnodes(2)\n",
    "\n",
    "print(segid)\n",
    "print(segid.parent())\n",
    "print(segid.children().keys())\n",
    "print(segid.ancestors().keys())\n",
    "print(segid.descendants().keys())"
   ]
  },
  {
   "cell_type": "code",
   "execution_count": null,
   "metadata": {},
   "outputs": [],
   "source": [
    "# Class magic methods\n",
    "\n",
    "for residue in segid:\n",
    "    print(residue.name)\n",
    "\n",
    "for atom in segid.residue:\n",
    "    print(atom.name, atom.elem, atom.value)\n",
    "\n",
    "print(atom.path())\n",
    "print(segid.residue.atom.name)"
   ]
  },
  {
   "cell_type": "code",
   "execution_count": null,
   "metadata": {},
   "outputs": [],
   "source": [
    "# Basic XPath query support\n",
    "\n",
    "print(g.xpath('/system/segid/residue').keys())\n",
    "print(g.xpath('//atom').values())\n",
    "print(g.xpath('//residue[3]').keys('value'))\n",
    "print(g.xpath('//segid[@value=\"A\"]/residue[@value=1]').keys('value'))\n",
    "print(g.xpath('//atom[@value>620]').values())"
   ]
  },
  {
   "cell_type": "markdown",
   "metadata": {},
   "source": [
    "### Working with the graph ORM"
   ]
  },
  {
   "cell_type": "code",
   "execution_count": null,
   "metadata": {},
   "outputs": [],
   "source": [
    "g.orm.node_mapping.add(Segid, lambda x: x.get('key') == 'segid')\n",
    "g.orm.node_mapping.add(Resid, lambda x: x.get('key') == 'residue')\n",
    "g.orm.node_mapping.add(Atom, lambda x: x.get('key') == 'atom')\n",
    "\n",
    "for segid in root:\n",
    "    print(segid.custom_print())\n",
    "    for resid in segid:\n",
    "        print(resid.custom_print())\n",
    "        for atom in resid:\n",
    "            print(atom.custom_print())"
   ]
  },
  {
   "cell_type": "code",
   "execution_count": null,
   "metadata": {},
   "outputs": [],
   "source": []
  }
 ],
 "metadata": {
  "kernelspec": {
   "display_name": "Python 3",
   "language": "python",
   "name": "python3"
  },
  "language_info": {
   "codemirror_mode": {
    "name": "ipython",
    "version": 3
   },
   "file_extension": ".py",
   "mimetype": "text/x-python",
   "name": "python",
   "nbconvert_exporter": "python",
   "pygments_lexer": "ipython3",
   "version": "3.6.9"
  }
 },
 "nbformat": 4,
 "nbformat_minor": 2
}
