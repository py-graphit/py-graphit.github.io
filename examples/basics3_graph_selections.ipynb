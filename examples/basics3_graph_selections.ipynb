{
 "cells": [
  {
   "cell_type": "code",
   "execution_count": null,
   "metadata": {},
   "outputs": [],
   "source": [
    "import time\n",
    "import logging\n",
    "\n",
    "from graphit import Graph\n",
    "from graphit.graph_algorithms import node_neighbors\n",
    "\n",
    "logging.basicConfig(level=logging.WARN)"
   ]
  },
  {
   "cell_type": "markdown",
   "metadata": {},
   "source": [
    "# Tutorial 3: Working with graph selections\n",
    "\n",
    "Tutorial 2 demonstrated how to retrieve/query specific nodes and edges from a graph. In **graphit** these node and edge selections are regarded subgraphs of the parent graph they are selected from. In this tutorial you will take a closer look at these subgraphs and the special properties they have.\n",
    "\n",
    "\n",
    "## Subgraphs are 'views' on the main graph\n",
    "\n",
    "The various node and edge query and selection tools that **graphit** offers are powerfull in selecting subgraphs\n",
    "based on a wide range of criteria. The subgraphs returned are not a copy but a 'view' on the data in the main graph\n",
    "similar to dictionary views in Python. **graphit** aims in using views as often as possible for graph operations.\n",
    "\n",
    "Views are convenient because they are fast compared to making a full copies and do not fragment the data. The latter means\n",
    "that data modifications made in a 'view' effect the data stored in the *source* graph only and are synchronized automatically in all other \n",
    "views on the same data. The source or *origin* `Graph` representing the full node and edge data set can always be obtained from any selection using the `origin` attribute.\n",
    " \n",
    "\n",
    "### 1.1 Creating subgraphs\n",
    "\n",
    "Create a subgraph using `getnodes` or `getedges` by default returns a `Graph` object with a view on the respective selection only. In both cases this means a view on the nodes, the edges connecting them and adjacency reflecting the neighbours of the nodes. Adjacency itself is not a view as both keys (source nodes) and the values (list of neighbouring nodes) will need to be adjusted to reflect the node and edge selection."
   ]
  },
  {
   "cell_type": "code",
   "execution_count": null,
   "metadata": {},
   "outputs": [],
   "source": [
    "g = Graph()\n",
    "g.add_edges([(1, 2), (2, 4), (4, 5), (4, 6), (5, 7), (6, 8), (7, 9)], node_from_edge=True)\n",
    "\n",
    "# Making a node selection using getnodes\n",
    "nsub1 = g.getnodes([4,5,6])\n",
    "print(nsub1.nodes.keys())\n",
    "print(nsub1.edges.keys())\n",
    "print(nsub1.adjacency())\n",
    "\n",
    "# Nodes, edges and adjacency are 'views'\n",
    "print(nsub1.nodes.is_view, nsub1.edges.is_view)\n",
    "\n",
    "# Selecting nodes from another selection\n",
    "nsub2 = nsub1.getnodes([5,8])\n",
    "print(nsub2.nodes.keys())\n",
    "print(nsub2.edges.keys())\n",
    "print(nsub2.adjacency())\n",
    "\n",
    "# Selecting nodes that do not exist will not work\n",
    "nsub3 = nsub1.getnodes(8)"
   ]
  },
  {
   "cell_type": "code",
   "execution_count": null,
   "metadata": {},
   "outputs": [],
   "source": [
    "# The source graph for the selections remains available\n",
    "print(nsub1.origin == g, nsub2.origin == g)\n",
    "\n",
    "# Data modifications in views are made on the parent data object and synchronized\n",
    "print(g.nodes[5])\n",
    "nsub1.nodes[5]['key'] = 15\n",
    "print(g.nodes[5], nsub2.nodes[5])"
   ]
  },
  {
   "cell_type": "code",
   "execution_count": null,
   "metadata": {},
   "outputs": [],
   "source": [
    "# Making an edge selection using getedges works in the same way as getnodes\n",
    "esub1 = g.getedges([(2, 4), (4, 2), (4, 5), (5, 4), (4, 6)])\n",
    "print(esub1.nodes.keys())\n",
    "print(esub1.edges.keys())\n",
    "print(esub1.adjacency())"
   ]
  },
  {
   "cell_type": "markdown",
   "metadata": {},
   "source": [
    "### 1.2 Subgraph connectivity\n",
    "\n",
    "Subgraphs created using `getnodes`, `getedges` or other selection and query methods return `Graph` objects with a view on the given selection. Although they seem to be isolated subgraphs they maintain connectivity with the origin graph by default.\n",
    "\n",
    "Connectivity behaviour is controlled using the `Graph.masked` attribute. False by default maintains connectivity with the origin graph while set to False treats the selection as an isolated subgraph.\n",
    "\n",
    "This is an important functionality as it for instance allows selection of a node while still maintaining information on the environment it is embedded in (like neighbours), `masked` set to true on the other hand treats the subgraph as an isolated graph even if it is connected to or embedded in a larger graph."
   ]
  },
  {
   "cell_type": "code",
   "execution_count": null,
   "metadata": {},
   "outputs": [],
   "source": [
    "# Get neighbours outside subgraph by default\n",
    "print(node_neighbors(g, 6))\n",
    "print(node_neighbors(nsub1, 6))\n",
    "\n",
    "# Set masked only considers the subgraph nodes as neighbours\n",
    "nsub1.masked = True\n",
    "print(node_neighbors(nsub1, 6))"
   ]
  },
  {
   "cell_type": "markdown",
   "metadata": {},
   "source": [
    "### 1.3 Everything is a view\n",
    "\n",
    "**graphit** aims to use views as often as possible when operating on graph selections\n",
    "originating from the same origin graph.\n",
    "Only when operations will or are likely to return a graph with a distinct topology not found\n",
    "in the input graphs will it return a new independant graph."
   ]
  },
  {
   "cell_type": "code",
   "execution_count": null,
   "metadata": {},
   "outputs": [],
   "source": []
  },
  {
   "cell_type": "markdown",
   "metadata": {},
   "source": [
    "### 1.3 Copying graphs\n",
    "\n",
    "Moving from a graph with a 'view' on the origin graph to an independent graph is handled by the `Graph.copy` method that returns a (deep)copy."
   ]
  },
  {
   "cell_type": "code",
   "execution_count": null,
   "metadata": {},
   "outputs": [],
   "source": [
    "cp = nsub1.copy()\n",
    "\n",
    "print(cp)\n",
    "print(cp.origin != nsub1.origin)\n",
    "print(cp.nodes.is_view, cp.edges.is_view, cp.adjacency.is_view)\n",
    "print(cp.nodes.keys())"
   ]
  }
 ],
 "metadata": {
  "kernelspec": {
   "display_name": "Python 3",
   "language": "python",
   "name": "python3"
  },
  "language_info": {
   "codemirror_mode": {
    "name": "ipython",
    "version": 3
   },
   "file_extension": ".py",
   "mimetype": "text/x-python",
   "name": "python",
   "nbconvert_exporter": "python",
   "pygments_lexer": "ipython3",
   "version": "3.6.9"
  }
 },
 "nbformat": 4,
 "nbformat_minor": 2
}
