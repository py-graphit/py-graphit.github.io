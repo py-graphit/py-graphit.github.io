{
 "cells": [
  {
   "cell_type": "code",
   "execution_count": 1,
   "metadata": {},
   "outputs": [],
   "source": [
    "import time\n",
    "import logging\n",
    "\n",
    "from graphit import Graph\n",
    "from graphit.graph_helpers import graph_directionality\n",
    "\n",
    "logging.basicConfig(level=logging.WARN)"
   ]
  },
  {
   "cell_type": "markdown",
   "metadata": {},
   "source": [
    "# Tutorial 1: Building simple graphs\n",
    "\n",
    "This is the first tutorial in a series illustrating the basics of using graphs in **graphit**. We start off by building a simple graph by adding nodes and edges and later on removing them again.\n",
    "\n",
    "\n",
    "## A Graph is a container with nodes and edges\n",
    "\n",
    "A graph is a collection of nodes (vertices) connected using edges. In **graphit**, nodes and edges are contained in a `Graph` object and they can represent any arbitrary piece of data as long as they are hashable such as: text,\n",
    "numbers, images, files or even Python functions or other objects.\n",
    " \n",
    "The functionality for adding nodes and edges to a `Graph` is similar to most other graph packages including\n",
    "the popular Python library [NetworkX](https://networkx.github.io) as is illustrated below.\n",
    "\n",
    "### 1.1 Creating a graph\n",
    "\n",
    "Create an empty `Graph` with no nodes and no edges."
   ]
  },
  {
   "cell_type": "code",
   "execution_count": 2,
   "metadata": {},
   "outputs": [
    {
     "name": "stdout",
     "output_type": "stream",
     "text": [
      "<GraphBase object 4422259192: 0 nodes, 0 edges>\n",
      "[] []\n"
     ]
    }
   ],
   "source": [
    "g = Graph()\n",
    "\n",
    "print(g)\n",
    "print(g.nodes, g.edges)"
   ]
  },
  {
   "cell_type": "markdown",
   "metadata": {},
   "source": [
    "**<span style=\"color:blue\">Technical note 1:</span> Node and edge storage**\n",
    "\n",
    "**graphit** uses flexible storage drivers to store node and edge\n",
    "information. The default driver stores information as a Python dictionary but\n",
    "this may well be a driver that stores information in a high-performance data\n",
    "store. The storage driver API enforces key/value storage in which the node\n",
    "identifier (nid) is the primary key and the node attribute dictionary the value.\n",
    "A graph natively supports the storage of multiple node attributes and\n",
    "therefor most node related functions expect a node value to behave in a\n",
    "Python dictionary like fashion."
   ]
  },
  {
   "cell_type": "markdown",
   "metadata": {},
   "source": [
    "### 1.2 Adding nodes\n",
    "\n",
    "Use the graph `add_node` method to add a single node to the graph or `add_nodes` for multiple nodes at once. Both methods return the unique node identifier(s) for the node(s) just added to the graph.\n",
    "`add_nodes` accepts any iterable object as a source of nodes."
   ]
  },
  {
   "cell_type": "code",
   "execution_count": 3,
   "metadata": {},
   "outputs": [
    {
     "name": "stdout",
     "output_type": "stream",
     "text": [
      "1 <GraphBase object 4422259192: 1 nodes, 0 edges>\n",
      "[2, 3, 4] <GraphBase object 4422259192: 4 nodes, 0 edges>\n",
      "<GraphBase object 4422259192: 11 nodes, 0 edges>\n"
     ]
    }
   ],
   "source": [
    "# Add a single node\n",
    "nid = g.add_node('node')\n",
    "print(nid, g)\n",
    "\n",
    "# Adding multiple nodes at once\n",
    "nids = g.add_nodes([1, 2, 'three'])\n",
    "print(nids, g)\n",
    "\n",
    "# using a string as iterable source of characters\n",
    "g.add_nodes('graphit')\n",
    "print(g)"
   ]
  },
  {
   "cell_type": "markdown",
   "metadata": {},
   "source": [
    "**<span style=\"color:red\">Important note 1:</span> Node identifiers**\n",
    "\n",
    "Every node added to the graph is stored allong with a node identifier (nid) that can\n",
    "be used to retrieve the node at a later time. The `Graph` class supports two methods\n",
    "to define node ID's:\n",
    "\n",
    "1. An automatically incremented integer identifier enabled by default using the\n",
    "   `Graph.auto_nid` attribute (set to True).\n",
    "2. Using the node key (first argument to `add_node` as identifier enabled by \n",
    "   setting the `Graph.auto_nid` to False.\n",
    "\n",
    "The benefit of the first option is unique identification of every node added\n",
    "even if the primary node key already exists. It will require the user to keep track of\n",
    "the unique ID's assigned to the nodes or querying for a node using attribute based\n",
    "query methods. \n",
    "\n",
    "These requirements are not needed with the second option. Here the node key \n",
    "serves as the identifier (nid) and may be any hashable object except `None`. A unique\n",
    "auto incremented ID (as with option 1) will still be added to the node attribute storage\n",
    "but it will not be used for identfication. The downside of method 2 is that the node\n",
    "key used may not be unique in case of which the `add_node(s)` will complain not adding\n",
    "the new node."
   ]
  },
  {
   "cell_type": "code",
   "execution_count": 4,
   "metadata": {},
   "outputs": [
    {
     "name": "stderr",
     "output_type": "stream",
     "text": [
      "WARNING:graphit:Node with identifier \"node\" already assigned\n"
     ]
    },
    {
     "name": "stdout",
     "output_type": "stream",
     "text": [
      "['node', 'node2']\n",
      "{'key': 'node', 'node_attr': 100, '_id': 1}\n",
      "['node', 'node2']\n"
     ]
    }
   ],
   "source": [
    "# Using the node key as identifier\n",
    "a = Graph(auto_nid=False)\n",
    "nids = a.add_nodes(['node', 'node2'], node_attr=100)\n",
    "print(nids)\n",
    "print(a.nodes['node'])\n",
    "print(a.nodes.keys())\n",
    "\n",
    "# Adding the same node again will not work\n",
    "nid = a.add_node('node', node_attr=100)"
   ]
  },
  {
   "cell_type": "markdown",
   "metadata": {},
   "source": [
    "### 1.3 Adding data to nodes\n",
    "\n",
    "Any additional key/value pair used as input to the `add_node` or `add_nodes`\n",
    "method will be added to the node storage"
   ]
  },
  {
   "cell_type": "code",
   "execution_count": 5,
   "metadata": {},
   "outputs": [
    {
     "data": {
      "text/plain": [
       "{'key': 'node', 'node_attr': 100, 'value': 1570207050, '_id': 12}"
      ]
     },
     "execution_count": 5,
     "metadata": {},
     "output_type": "execute_result"
    }
   ],
   "source": [
    "nid = g.add_node('node', node_attr=100, value=int(time.time()))\n",
    "g.nodes[nid]"
   ]
  },
  {
   "cell_type": "markdown",
   "metadata": {},
   "source": [
    "The node/edge storage exposes a dictionary like API (technical note 1). For node with ID 14, it show the added \n",
    "data as dictionary key/value pairs. The auto incremented node ID is stored as '_id' and the \n",
    "node key as 'key'"
   ]
  },
  {
   "cell_type": "code",
   "execution_count": 6,
   "metadata": {},
   "outputs": [
    {
     "name": "stdout",
     "output_type": "stream",
     "text": [
      "{'key': 'data', 'node_attr': 100, 'value': 1570207050, '_id': 13}\n",
      "{'key': 1.22, 'node_attr': 100, 'value': 1570207050, '_id': 14}\n",
      "{'key': True, 'node_attr': 100, 'value': 1570207050, '_id': 15}\n",
      "{'key': <built-in function len>, 'node_attr': 100, 'value': 1570207050, '_id': 16}\n"
     ]
    }
   ],
   "source": [
    "nids = g.add_nodes(['data', 1.22, True, len], node_attr=100, value=int(time.time()))\n",
    "for nid in nids:\n",
    "    print(g.nodes[nid])"
   ]
  },
  {
   "cell_type": "markdown",
   "metadata": {},
   "source": [
    "With `add_nodes` additional keyword arguments will be added to all nodes added from the iterable.\n",
    "If the iterable contains a tuple or list of length 2 with a dictionary at the second position, the key/value pairs\n",
    "of that dictionary will be used as attributes in the new node together with addtional keyword arguments\n",
    "to `add_nodes` if defined.\n",
    "This functionality can be used for adding the nodes of one graph as new nodes to another as illustrated below."
   ]
  },
  {
   "cell_type": "code",
   "execution_count": 7,
   "metadata": {},
   "outputs": [
    {
     "name": "stdout",
     "output_type": "stream",
     "text": [
      "{'key': 's', 'attr': True, '_id': 17}\n",
      "{'key': 'e', 'attr': True, '_id': 18}\n",
      "{'key': 'c', 'attr': True, '_id': 19}\n",
      "{'key': 'o', 'attr': True, '_id': 20}\n",
      "{'key': 'n', 'attr': True, '_id': 21}\n",
      "{'key': 'd', 'attr': True, '_id': 22}\n"
     ]
    }
   ],
   "source": [
    "# Build the first graph\n",
    "b = Graph()\n",
    "b.add_nodes('second', attr=True)\n",
    "\n",
    "# Add nodes of graph b to g\n",
    "nids = g.add_nodes(b.nodes.items())\n",
    "for nid in nids:\n",
    "    print(g.nodes[nid])"
   ]
  },
  {
   "cell_type": "markdown",
   "metadata": {},
   "source": [
    "Now graph *g* contains the nodes of graph *b* as new nodes. Alternativly, you could use the full graph *b* as node in *g*:"
   ]
  },
  {
   "cell_type": "code",
   "execution_count": 8,
   "metadata": {},
   "outputs": [
    {
     "name": "stdout",
     "output_type": "stream",
     "text": [
      "{'key': <GraphBase object 4420139048: 6 nodes, 0 edges>, '_id': 23}\n"
     ]
    }
   ],
   "source": [
    "nid = g.add_node(b)\n",
    "print(g.nodes[nid])"
   ]
  },
  {
   "cell_type": "markdown",
   "metadata": {},
   "source": [
    "**<span style=\"color:blue\">Technical note 2:</span> unicode support**\n",
    "\n",
    "**graphit** commits to the use of unicode strings as much as possible both in python 2.x and 3.x. All data keys and values that are strings are stored in unicode. When using data collections as value such as lists, dictionaries or tuples, the user is responsible for ensuring unicode complience. In python 3.x all strings are unicode by default."
   ]
  },
  {
   "cell_type": "markdown",
   "metadata": {},
   "source": [
    "### 1.4 Adding edges\n",
    "\n",
    "Adding edges is in general anologous to adding nodes by using the `add_edge` and `add_edges` methods. The difference is that both methods require as argument two node identifiers that form the edge. The identifiers are either two automatically generated unique ID's or custom ones (see important node 1).\n",
    "\n",
    "**Graph directionality**\n",
    "\n",
    "An edge between two nodes can be un-directional (edge points both ways) or directional (edge only points one way). Global directionality of a graph is set using `graph.directed` attribute which is False by default yielding an un-directional graph. Global directionality can be overruled in `add_edge(s)` allowing for mixed graphs."
   ]
  },
  {
   "cell_type": "code",
   "execution_count": 9,
   "metadata": {},
   "outputs": [
    {
     "name": "stdout",
     "output_type": "stream",
     "text": [
      "(1, 2)\n",
      "<GraphBase object 4422259192: 23 nodes, 2 edges> False\n",
      "{(1, 2): {'edge_attr': 'text'}, (2, 1): {'edge_attr': 'text'}}\n",
      "undirectional\n"
     ]
    }
   ],
   "source": [
    "# Adding an edge in an un-directed graph\n",
    "eid = g.add_edge(1, 2, edge_attr='text')\n",
    "\n",
    "print(eid)\n",
    "print(g, g.directed)\n",
    "print(g.edges())\n",
    "print(graph_directionality(g))"
   ]
  },
  {
   "cell_type": "code",
   "execution_count": 10,
   "metadata": {},
   "outputs": [
    {
     "name": "stdout",
     "output_type": "stream",
     "text": [
      "{(1, 2): {'edge_attr': 'text'}, (2, 1): {'edge_attr': 'text'}, (2, 3): {}}\n",
      "mixed\n"
     ]
    }
   ],
   "source": [
    "# Add directed edge.\n",
    "eid = g.add_edge(2, 3, directed=True)\n",
    "\n",
    "print(g.edges())\n",
    "print(graph_directionality(g))"
   ]
  },
  {
   "cell_type": "code",
   "execution_count": 11,
   "metadata": {},
   "outputs": [
    {
     "name": "stderr",
     "output_type": "stream",
     "text": [
      "WARNING:graphit:Edge between nodes 2-4 exists. Use edge update to change attributes.\n",
      "WARNING:graphit:Edge between nodes 4-2 exists. Use edge update to change attributes.\n"
     ]
    },
    {
     "name": "stdout",
     "output_type": "stream",
     "text": [
      "<GraphBase object 4422259192: 23 nodes, 25 edges>\n",
      "{'global_attr': True}\n",
      "{'global_attr': True}\n",
      "{'global_attr': True}\n",
      "{'global_attr': True}\n",
      "{'global_attr': True}\n",
      "{'global_attr': True}\n",
      "{'attr': 100, 'global_attr': True}\n",
      "{'global_attr': True}\n",
      "{'text': False, 'global_attr': True}\n",
      "{'global_attr': True}\n",
      "{'global_attr': True}\n"
     ]
    },
    {
     "data": {
      "text/plain": [
       "(2, 4)"
      ]
     },
     "execution_count": 11,
     "metadata": {},
     "output_type": "execute_result"
    }
   ],
   "source": [
    "# Add multiple edges at once\n",
    "eids = g.add_edges([(2, 4), (4, 5), (4, 6), (5, 7), (6, 8), (7, 9)], global_attr=True)\n",
    "eids += g.add_edges([(8, 9, {'attr': 100}), (9, 10), (10, 11, {'text': False}), (10, 12), (10, 13)], global_attr=True)\n",
    "\n",
    "print(g)\n",
    "for eid in eids:\n",
    "    print(g.edges[eid])\n",
    "    \n",
    "# Adding the same edge again will not work\n",
    "g.add_edge(2, 4)"
   ]
  },
  {
   "cell_type": "markdown",
   "metadata": {},
   "source": [
    "The `add_edge(s)` method supports a shortcut for fast graph creation by adding nodes based on edge identifiers using the `node_from_edge` argument"
   ]
  },
  {
   "cell_type": "code",
   "execution_count": 12,
   "metadata": {},
   "outputs": [
    {
     "name": "stdout",
     "output_type": "stream",
     "text": [
      "<GraphBase object 4422743816: 8 nodes, 14 edges>\n"
     ]
    }
   ],
   "source": [
    "c = Graph()\n",
    "c.add_edges([(1, 2), (2, 4), (4, 5), (4, 6), (5, 7), (6, 8), (7, 9)], node_from_edge=True)\n",
    "\n",
    "print(c)"
   ]
  },
  {
   "cell_type": "markdown",
   "metadata": {},
   "source": [
    "### 1.5 Removing nodes and edges\n",
    "\n",
    "It may not come as a surprise but removing nodes and edges is accomplished using similar methods as adding them namely: `remove_node`, `remove_nodes`, `remove_edge` and `remove_edges`.\n",
    "\n",
    "Removing nodes will also remove edges depending on it and adjust node adjacency. Removing edges will not remove associated nodes but will adjust adjacency.\n",
    "The `graph.directed` attribute controlling graph directionality when adding edges also affects the removal of them. When `remove_edge(s)` is called with the `directed=True` argument on an un-directed graph then only one edge of the pair of edges is removed otherwise both edges will be removed."
   ]
  },
  {
   "cell_type": "code",
   "execution_count": 13,
   "metadata": {},
   "outputs": [
    {
     "name": "stdout",
     "output_type": "stream",
     "text": [
      "False\n",
      "[]\n"
     ]
    }
   ],
   "source": [
    "# Removing a single node\n",
    "g.remove_node(4)\n",
    "\n",
    "# Node 4 no longer in adjacency\n",
    "print(4 in g.adjacency)\n",
    "\n",
    "# Node more edges with node 4\n",
    "print([edge for edge in g.edges if 4 in edge])"
   ]
  },
  {
   "cell_type": "code",
   "execution_count": 14,
   "metadata": {},
   "outputs": [
    {
     "name": "stdout",
     "output_type": "stream",
     "text": [
      "<GraphBase object 4422259192: 22 nodes, 19 edges>\n",
      "<GraphBase object 4422259192: 18 nodes, 14 edges>\n"
     ]
    }
   ],
   "source": [
    "print(g)\n",
    "\n",
    "# Removing multiple nodes\n",
    "g.remove_nodes([1,2,3,5])\n",
    "print(g)"
   ]
  },
  {
   "cell_type": "code",
   "execution_count": 15,
   "metadata": {},
   "outputs": [
    {
     "name": "stdout",
     "output_type": "stream",
     "text": [
      "<GraphBase object 4422640296: 2 nodes, 0 edges>\n",
      "False\n"
     ]
    }
   ],
   "source": [
    "# Removing edges works in a similar way\n",
    "g.remove_edge(6, 8)\n",
    "\n",
    "print(g.getnodes([6, 8]))  # Nodes are still there\n",
    "print(8 in g.adjacency[6]) # Adjacency is adjusted"
   ]
  },
  {
   "cell_type": "code",
   "execution_count": 16,
   "metadata": {},
   "outputs": [
    {
     "name": "stdout",
     "output_type": "stream",
     "text": [
      "<GraphBase object 4422259192: 18 nodes, 12 edges>\n",
      "<GraphBase object 4422259192: 18 nodes, 6 edges>\n"
     ]
    }
   ],
   "source": [
    "print(g)\n",
    "\n",
    "# Removing multiple edges\n",
    "g.remove_edges([(9, 7), (11, 10), (9, 8)])\n",
    "\n",
    "print(g)"
   ]
  },
  {
   "cell_type": "markdown",
   "metadata": {},
   "source": [
    "Removing all nodes and edges from a graph has a shortcut `clear` method."
   ]
  },
  {
   "cell_type": "code",
   "execution_count": 17,
   "metadata": {},
   "outputs": [
    {
     "name": "stderr",
     "output_type": "stream",
     "text": [
      "WARNING:root:(10, 9) defines a reference ($ref) to non-existing (9, 10)\n",
      "WARNING:root:(12, 10) defines a reference ($ref) to non-existing (10, 12)\n",
      "WARNING:root:(13, 10) defines a reference ($ref) to non-existing (10, 13)\n"
     ]
    },
    {
     "name": "stdout",
     "output_type": "stream",
     "text": [
      "<GraphBase object 4422259192: 0 nodes, 0 edges>\n"
     ]
    }
   ],
   "source": [
    "g.clear()\n",
    "print(g)"
   ]
  }
 ],
 "metadata": {
  "kernelspec": {
   "display_name": "Python 3",
   "language": "python",
   "name": "python3"
  },
  "language_info": {
   "codemirror_mode": {
    "name": "ipython",
    "version": 3
   },
   "file_extension": ".py",
   "mimetype": "text/x-python",
   "name": "python",
   "nbconvert_exporter": "python",
   "pygments_lexer": "ipython3",
   "version": "3.6.9"
  }
 },
 "nbformat": 4,
 "nbformat_minor": 2
}
