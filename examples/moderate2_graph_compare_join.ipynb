{
 "cells": [
  {
   "cell_type": "code",
   "execution_count": null,
   "metadata": {},
   "outputs": [],
   "source": [
    "import time\n",
    "import logging\n",
    "\n",
    "from graphit import Graph\n",
    "from graphit.graph_combinatorial.graph_setlike_operations import *\n",
    "\n",
    "logging.basicConfig(level=logging.WARN)"
   ]
  },
  {
   "cell_type": "code",
   "execution_count": null,
   "metadata": {},
   "outputs": [],
   "source": [
    "# Build tutorial graph\n",
    "\n",
    "graph1 = Graph(auto_nid=False)\n",
    "graph1.add_nodes(range(1, 11), graph='one')\n",
    "graph1.add_edges([(1, 2), (2, 3), (3, 4), (3, 5), (5, 6), (4, 7), (6, 8), (7, 8), (8, 9), (9, 10)])\n",
    "\n",
    "graph2 = Graph(auto_nid=False)\n",
    "graph2.add_nodes(range(6, 16), graph='two')\n",
    "graph2.add_edges([(6, 8), (7, 8), (8, 9), (9, 10), (10, 11), (10, 12), (12, 13), (11, 14), (13, 15), (14, 15)])\n",
    "\n",
    "print('Tutorial example graphs 1 and 2:', graph1, graph2)"
   ]
  },
  {
   "cell_type": "markdown",
   "metadata": {},
   "source": [
    "# Tutorial 5: Compairing, mergin and appending graphs\n",
    "\n",
    "In this tutorial you will take a closer look at **graphit** function for operations on multiple grpahs such as compairing two graphs, joining or merging them.\n",
    "\n",
    "\n",
    "### 5.1 Compairing subgraphs\n",
    "\n",
    "**graphit** offers a number of [set-like](https://docs.python.org/3/library/stdtypes.html#set-types-set-frozenset) comparison methods to compare subgraphs based on topology defined by node IDs and edges. This means that the graphs at least need to share nodes with the same ID or derived from a common ancestor (origin graph). \n",
    "\n",
    "These functions aim to return a view-based result graph whenever possible. The principles and benefits of 'views' are discussed in more detail in the the <span style=\"color:blue\">moderate1_graph_orm.ipynb</span> tutorial. If returning a view is not possible a new (deep copy) will be returned.\n",
    "\n",
    "Note: These functions do not update node and/or edge attributes in the resulting graph as might be required in for instance a union or intersection operation."
   ]
  },
  {
   "cell_type": "code",
   "execution_count": null,
   "metadata": {},
   "outputs": [],
   "source": [
    "print('intersection: {0}'.format(graph_intersection(graph1, graph2)))\n",
    "print('difference: {0}'.format(graph_difference(graph1, graph2)))\n",
    "print('symmetric_difference: {0}'.format(graph_symmetric_difference(graph1, graph2)))\n",
    "print('union: {0}'.format(graph_union(graph1, graph2)))\n",
    "\n",
    "print('\\nissubset: {0}'.format(graph_issubset(graph1.getnodes([3, 4, 5]), graph1)))\n",
    "print('issuperset: {0}'.format(graph_issuperset(graph1, graph_union(graph1, graph2))))"
   ]
  },
  {
   "cell_type": "markdown",
   "metadata": {},
   "source": [
    "The set-like operations demonstrated above are also used in `Graph` magic methods where they are often combined with attribute update functions to for instance return a true union between two graphs."
   ]
  },
  {
   "cell_type": "code",
   "execution_count": null,
   "metadata": {},
   "outputs": [],
   "source": [
    "# Graph addition, attributes of first updated with second\n",
    "new = graph1 + graph2\n",
    "print(new.items('_id', 'graph'))\n",
    "\n",
    "# Is graph 1 contained in the previous graph\n",
    "print('Graph 1 contained in new:', graph1 in new)\n",
    "print('Graph 1 not contained in graph 2:', graph1 in graph2)\n",
    "\n",
    "# Equality\n",
    "print('Graph 1 does not equal graph 2:', graph1 == graph2)\n",
    "print('A copy of graph 1 equals graph 1:', graph1.copy() == graph1)\n",
    "\n",
    "# Logical less-then/greater-then\n",
    "print(graph1 <= new)"
   ]
  },
  {
   "cell_type": "code",
   "execution_count": null,
   "metadata": {},
   "outputs": [],
   "source": []
  }
 ],
 "metadata": {
  "kernelspec": {
   "display_name": "Python 3",
   "language": "python",
   "name": "python3"
  },
  "language_info": {
   "codemirror_mode": {
    "name": "ipython",
    "version": 3
   },
   "file_extension": ".py",
   "mimetype": "text/x-python",
   "name": "python",
   "nbconvert_exporter": "python",
   "pygments_lexer": "ipython3",
   "version": "3.6.9"
  }
 },
 "nbformat": 4,
 "nbformat_minor": 2
}
