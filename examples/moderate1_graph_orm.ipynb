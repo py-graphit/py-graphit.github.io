{
 "cells": [
  {
   "cell_type": "code",
   "execution_count": null,
   "metadata": {},
   "outputs": [],
   "source": [
    "import logging\n",
    "\n",
    "from graphit import Graph\n",
    "\n",
    "logging.basicConfig(level=logging.WARN)"
   ]
  },
  {
   "cell_type": "markdown",
   "metadata": {},
   "source": [
    "## The graph Object Relation Mapper"
   ]
  },
  {
   "cell_type": "markdown",
   "metadata": {},
   "source": [
    "Graph libraries are first and foremost a database with node, edge and optional adjacency information. The libraries\n",
    "application programming interface (API) provides the methods to build, edit and query the stored graph data.\n",
    "For libraries written in an object oriented language (such as graphit in Python) the API is an object but also the\n",
    "nodes and edges it returns are often objects. These may be basic data structure such as dictionaries in the case of \n",
    "the [networkX](http://www.networkx.github.io) library of more elaborate custom classes.\n",
    "\n",
    "In graphit every object representing a full graph, a subgraph or even single node or edge is itself derived from the Graph class. These objects always represent a `view` on the nodes and edges in the main storage class (initial Graph object initiated) for efficiency and concurancy.\n",
    "The abbility to always interact with the same consistent API regardless of the graph state is an attractive benefit of the library. But graphit goes one step further by dynamically building the Graph objects and allowing the user to add or change the objects methods through the use of an Object Relation Mapper (ORM).\n",
    "\n",
    "The ORM allows a user to map a custom class together with a matching function that will be evaluated against node or edge data every time a node or edge query is performed. All the custom classes associated to positive matches are used\n",
    "in building a new Graph or GraphAxis class. \n",
    "This design strategy provides a powerfull means to have fine grained control over the graph behaviour and the functionality of the returned Graph object. This turns an already feature rich graph library into a dynamic data modelling library, a combination unique to graphit."
   ]
  },
  {
   "cell_type": "markdown",
   "metadata": {},
   "source": [
    "### Using the ORM"
   ]
  },
  {
   "cell_type": "markdown",
   "metadata": {},
   "source": [
    "Every new graph automatically initiates an instance of the GraphORM class. Graph objects returned by querying the\n",
    "\"parent\" graph will have a weak reference to the GraphORM class similar as to the nodes and edges storage objects.\n",
    "\n",
    "Let's have a look at the capabilities of the ORM by building a simple example graph:"
   ]
  },
  {
   "cell_type": "code",
   "execution_count": null,
   "metadata": {},
   "outputs": [],
   "source": [
    "graph = Graph()\n",
    "graph.add_edges([(1, 2), (2, 3), (2, 4), (3, 5), (3, 6), (4, 6), (6, 7), (7, 8), (7, 9)], node_from_edge=True)\n",
    "\n",
    "print(graph)\n",
    "print(graph.orm)"
   ]
  },
  {
   "cell_type": "markdown",
   "metadata": {},
   "source": [
    "The `orm` object has no registered node or edge mappings yet. Let's register a custom class to a node"
   ]
  },
  {
   "cell_type": "code",
   "execution_count": null,
   "metadata": {},
   "outputs": [],
   "source": [
    "class CustomNodeClass(object):\n",
    "    \n",
    "    def magic(self):\n",
    "        print('Hello from {0}'.format(self.nid))\n",
    "\n",
    "graph.orm.node_mapping.add(CustomNodeClass, lambda x: x.get('_id') == 3)\n",
    "print(graph.orm)"
   ]
  },
  {
   "cell_type": "markdown",
   "metadata": {},
   "source": [
    "In using `node_mapping.add`, the `CustomNodeClass` class is registered and will be mapped when the lambda function evaluates to True. The second argument can be any function as long as it accepts a dictionary as the only argument. That plain Python dictionary contains the node attributes or edge attributes in the equivalent `edge_mapping.add` function.\n",
    "\n",
    "<span style=\"color:red\">Note</span> that it is highly recommended to use the dictionary `get` method to avoid raising a KeyError when the key is not defined which is likely to happen.\n",
    "\n",
    "\n",
    "Now, fetching node 3 will return a Graph object with the added `magic` method while a call node 5 for instance will\n",
    "not have that method."
   ]
  },
  {
   "cell_type": "code",
   "execution_count": null,
   "metadata": {},
   "outputs": [],
   "source": [
    "node3 = graph.getnodes(3)\n",
    "\n",
    "print(hasattr(node3, 'magic'))\n",
    "node3.magic()\n",
    "\n",
    "print(hasattr(graph.getnodes(5), 'magic'))"
   ]
  },
  {
   "cell_type": "markdown",
   "metadata": {},
   "source": [
    "**Class inheritance**\n",
    "\n",
    "In the example above, node 3 has the `magic` method as we defined while node 5 does not. However, if we fetch node 5 from the node 3 graph object it inherits node3 methods and that includes the `magic` method. This is controlled by the `inherit` argument of the GraphORM class that defaults to True. When disabled, each newly created Graph object only consists of the Graph base class and the custom classes resolved for the particular call to the ORM. "
   ]
  },
  {
   "cell_type": "code",
   "execution_count": null,
   "metadata": {},
   "outputs": [],
   "source": [
    "node3.getnodes(5).magic()\n",
    "\n",
    "# Disable ORM inheritance\n",
    "graph.orm.inherit = False\n",
    "print(hasattr(node3.getnodes(5), 'magic'))"
   ]
  }
 ],
 "metadata": {
  "kernelspec": {
   "display_name": "Python 3",
   "language": "python",
   "name": "python3"
  },
  "language_info": {
   "codemirror_mode": {
    "name": "ipython",
    "version": 3
   },
   "file_extension": ".py",
   "mimetype": "text/x-python",
   "name": "python",
   "nbconvert_exporter": "python",
   "pygments_lexer": "ipython3",
   "version": "3.6.9"
  }
 },
 "nbformat": 4,
 "nbformat_minor": 2
}
