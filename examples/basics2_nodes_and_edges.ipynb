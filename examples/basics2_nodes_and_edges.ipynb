{
 "cells": [
  {
   "cell_type": "code",
   "execution_count": null,
   "metadata": {},
   "outputs": [],
   "source": [
    "import time\n",
    "import logging\n",
    "\n",
    "from graphit import Graph\n",
    "\n",
    "logging.basicConfig(level=logging.WARN)"
   ]
  },
  {
   "cell_type": "code",
   "execution_count": null,
   "metadata": {},
   "outputs": [],
   "source": [
    "# Build tutorial graph\n",
    "g = Graph()\n",
    "g.add_nodes('GRAPH', data='word')\n",
    "g.add_edges([(1, 2), (2, 3), (2, 4), (4, 5)], label='link')\n",
    "\n",
    "g.auto_nid = False\n",
    "g.add_node('final', label='yellow')\n",
    "g.add_edge(4, 'final')\n",
    "\n",
    "print('Tutorial example graph:', g)"
   ]
  },
  {
   "cell_type": "markdown",
   "metadata": {},
   "source": [
    "# Tutorial 2: Working with nodes and edges\n",
    "\n",
    "After the first tutorial you should be familiar with building graphs **graphit**. In this tutorial you will learn about `Graph` class methods that allow you to retrieve specific nodes and edges from a graph based on their ID or query for them based on the attributes they contain.\n",
    "In addition this tutorial discussed how to best work with the data that is stored as node and edge attributes.\n",
    "\n",
    "Retrieving or query for specific nodes and edges always returns a new `Graph` object with the nodes and edges represented as a subgraph. The next tutorial (3) will explain subgraphs and their properties in more detail. \n",
    "\n",
    "### 2.1 Getting nodes and edges from a graph using their ID\n",
    "\n",
    "The primary method for retrieving nodes and edges based on their ID (nid, eid) is `getnodes` and `getedges` respectivly. Nearly all other class methods including magic methods that query for nodes and edges based on ID use `getnodes` and `getedges` internally. "
   ]
  },
  {
   "cell_type": "code",
   "execution_count": null,
   "metadata": {},
   "outputs": [],
   "source": [
    "# Get single or multiple nodes\n",
    "print(g.getnodes(2))\n",
    "print(g.getnodes((2, 4, 5)))\n",
    "\n",
    "# Equivalent for edges\n",
    "print(g.getedges((2, 3)))\n",
    "print(g.getedges([(2, 3), (2, 4)]))"
   ]
  },
  {
   "cell_type": "code",
   "execution_count": null,
   "metadata": {},
   "outputs": [],
   "source": [
    "# `getnodes` and `getedges` are also used in Graph magic methods such as dictionary like 'key' access \n",
    "# using the __getitem__ magic method.\n",
    "print(g[2])\n",
    "print(g['final'])\n",
    "print(g[(2, 3)])\n",
    "\n",
    "# __getitem__ also accepts a 'slice' object for integer based node IDs\n",
    "print(g[1:3])"
   ]
  },
  {
   "cell_type": "markdown",
   "metadata": {},
   "source": [
    "**Iterating over nodes and edges**\n",
    "\n",
    "Iterate over nodes and edges using the `iternodes` and `iteredges` methods respectivly. `iternodes` is also used in the default `Graph` class iterator (*\\__iter__* class method).\n",
    "\n",
    "Both methods sort the node and edge ID's before iteration using Pythons build in `sorted` function. Sorting behaviour can be modified using the `reverse` and `sort_key` arguments to respectivly reverse the sorting order or use a different key-based sorting function. More information about this functionality is available as part of the `sorted` [documentation](https://docs.python.org/3/howto/sorting.html). "
   ]
  },
  {
   "cell_type": "code",
   "execution_count": null,
   "metadata": {},
   "outputs": [],
   "source": [
    "for node in g.iternodes():\n",
    "    print(node)\n",
    "\n",
    "for node in g:\n",
    "    print(node)\n",
    "\n",
    "for edge in g.iteredges():\n",
    "    print(edge)"
   ]
  },
  {
   "cell_type": "markdown",
   "metadata": {},
   "source": [
    "**Query a graph for nodes and edges**\n",
    "\n",
    "Retrieving specific nodes and edges based on their attributes is possible using the `query_nodes` and `query_edges` methods."
   ]
  },
  {
   "cell_type": "code",
   "execution_count": null,
   "metadata": {},
   "outputs": [],
   "source": [
    "print(g.query_nodes(key='P'))\n",
    "print(g.query_nodes(attr='word'))\n",
    "\n",
    "print(g.query_edges(label='link'))"
   ]
  },
  {
   "cell_type": "markdown",
   "metadata": {},
   "source": [
    "### 2.2 Working with node and edge data stores\n",
    "\n",
    "Node and edge data (attributes) are stored in a dictionary-like fasion as explained in tutorial 1. The `DictStorage` class handling storage has an API mimicking that of the familiar Python `dict` class. The node or edge ID is the primary key and the attributes as value stored as additional dictionary as explained by technical node 1 in the first tutorial.\n",
    "\n",
    "Attributes can thus be accessed and updated using a familiar dict-like API as demonstrated for nodes below. However, there is good reason to use the dedicated API methods for that are a part of the `Graph` class. More on that later on in this tutorial."
   ]
  },
  {
   "cell_type": "markdown",
   "metadata": {},
   "source": [
    "**Working with node and edge IDs**\n",
    "\n",
    "Pythons [dictionary methods](https://docs.python.org/3/library/stdtypes.html#dict) supported by `DictStorage` provide a fast and easy means of inspecting the nodes and edges in graph or subgraph."
   ]
  },
  {
   "cell_type": "code",
   "execution_count": null,
   "metadata": {},
   "outputs": [],
   "source": [
    "node = g['final']\n",
    "print('current node ID:', node.nid)\n",
    "\n",
    "print(node.nodes())\n",
    "print(node.nodes.keys())\n",
    "print(node.nodes.values())\n",
    "print(node.nodes.items())\n",
    "print(len(node.nodes))"
   ]
  },
  {
   "cell_type": "markdown",
   "metadata": {},
   "source": [
    "In additon, the `DictStorage` class provides [set-like comparison](https://docs.python.org/3/library/stdtypes.html#set-types-set-frozenset) methods to directly compare nodes or edges from two subgraphs in a number of ways."
   ]
  },
  {
   "cell_type": "code",
   "execution_count": null,
   "metadata": {},
   "outputs": [],
   "source": [
    "sel1 = g.getnodes([1, 2, 3])\n",
    "sel2 = g.getnodes([3, 4, 5])\n",
    "\n",
    "print('difference: {0}'.format(sel1.nodes.difference(sel2.nodes)))\n",
    "print('intersection: {0}'.format(sel1.nodes.intersection(sel2.nodes)))\n",
    "print('union: {0}'.format(sel1.nodes.union(sel2.nodes)))\n",
    "print('symmetric_difference: {0}'.format(sel1.nodes.symmetric_difference(sel2.nodes)))\n",
    "\n",
    "print('\\nissubset: {0}'.format(sel1.nodes.issubset(g.nodes)))\n",
    "print('issuperset: {0}'.format(sel1.nodes.issuperset(g.nodes)))\n",
    "print('isdisjoint: {0}'.format(sel1.nodes.isdisjoint(sel2.nodes)))"
   ]
  },
  {
   "cell_type": "markdown",
   "metadata": {},
   "source": [
    "**<span style=\"color:red\">Important note 2:</span> Be carefull with editing on `DictStorage` objects directly**\n",
    "\n",
    "With the familiarity of the dict-like API it may be tempting to edit node and edge ID's (primary keys) directly using the respective node and edge `DictStorage` objects, one could even add or remove nodes and edges this way.\n",
    "It is however strongly advised NOT to do this as it can leave the graph in a funny state. Use the dedicated method to add or remove nodes and edges instead.\n",
    "\n",
    "\n",
    "**Working with node and edge attributes**\n",
    "\n",
    "Node and edge attribute stores are also dict-like objects and thus share the same API. Use the node or edge ID to access the attribute store followed by the familiar dict-like API to edit the data."
   ]
  },
  {
   "cell_type": "code",
   "execution_count": null,
   "metadata": {},
   "outputs": [],
   "source": [
    "# Add new data attribute and set its value using __setitem__ method\n",
    "node.nodes[node.nid]['extra'] = 4.33\n",
    "\n",
    "# Retrieve attributes using __getitem__ or get methods\n",
    "print(node.nodes[node.nid]['extra'])\n",
    "print(node.nodes[node.nid].get('extra', None))\n",
    "\n",
    "# Update attributes from other dictionary\n",
    "node.nodes[node.nid].update({'update': True, 'extra': 3.44})\n",
    "\n",
    "print(node.nodes[node.nid])"
   ]
  },
  {
   "cell_type": "markdown",
   "metadata": {},
   "source": [
    "**Using the dedicated node and edge data API**\n",
    "\n",
    "Although the node and edge data can be directly and conveniently modified as shown above, there is a dedicated API available for this. Every single node or edge Graph has additional method added to it (using the ORM further explained in the <span style=\"color:blue\">moderate1_graph_orm.ipynb</span> tutorial) for convenient attribute access.\n",
    "\n",
    "The benefit of this API is that custom `Graph` classes (using the ORM) can overload the methods changing the behaviour of attribute access. An example application would be the pre- or post-processing of the data. "
   ]
  },
  {
   "cell_type": "code",
   "execution_count": null,
   "metadata": {},
   "outputs": [],
   "source": [
    "node = g['final']\n",
    "\n",
    "# Dictionary 'get' and 'set' are the core methods\n",
    "print(node.get('label', default=None))\n",
    "node.set('set', [1,2,3])\n",
    "\n",
    "# Direct attribute or item based access\n",
    "print(node.label)\n",
    "print(node['label'])\n",
    "\n",
    "# Including attribute or item setters\n",
    "node.label = 'green'\n",
    "node['extra'] = 'red'\n",
    "\n",
    "# Magic methods and other methods\n",
    "node.update({'first': 1, 'second': 2})\n",
    "print('extra' in node, 'void' in node)\n",
    "\n",
    "print(node.nodes())"
   ]
  }
 ],
 "metadata": {
  "kernelspec": {
   "display_name": "Python 3",
   "language": "python",
   "name": "python3"
  },
  "language_info": {
   "codemirror_mode": {
    "name": "ipython",
    "version": 3
   },
   "file_extension": ".py",
   "mimetype": "text/x-python",
   "name": "python",
   "nbconvert_exporter": "python",
   "pygments_lexer": "ipython3",
   "version": "3.6.9"
  }
 },
 "nbformat": 4,
 "nbformat_minor": 2
}
